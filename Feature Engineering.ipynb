{
 "cells": [
  {
   "cell_type": "raw",
   "metadata": {},
   "source": [
    "Feature Engineering\n",
    "\n",
    "Use domain and data knowledge to create novel features as inputs for ML models from the raw data provided.\n",
    "For ex - Breaking the tabular Raw data to Numerical Data, Categorical Data, Text data and others.\n",
    "Using this we select features which help us to train the model using these meaningful features, this art or science is known as Feature Engineering.\n",
    "\n",
    "\n",
    "Feature Engineering -\n",
    ". Select Features\n",
    ". Feature construction(multiplication, squaring, polynomial features, logs, other kernels etc)\n",
    "\n",
    "Encoding Categorical Features (LabelEncoder)\n",
    "LabelEncoder from sklearn encodes target labels with values between 0 and n_classes-1 - \n",
    "Basically it encodes target labels values y(or one feature only) and not the input X. It can be used to transform non-numerical labels or numerical labels.\n",
    "ex -> df['color'] = LabelEnconder.fit_transform(df['color'])\n",
    "\n",
    "Encoding Categorical Features (OrdinalEncoder)\n",
    "OrdinalEncoder encodes categorical features as an integer array\n",
    "Encodes 2 or more categorical features(doesn't work on one feature). It returns a single column of integers (0 to n_categories - 1) per feature.\n",
    "ex -> \n",
    "df['color', 'size', 'classlabel'] = OrdinalEnconder.fit_transform(df['color', 'size', 'classlabel'])\n",
    "\n",
    "Encoding Categorical Features (OneHotEncoder)\n",
    "THe basic problem with the previous encodings is -\n",
    "encoding with integers is wrong becuase the ordering and size of \n",
    "the integers is meaningless.\n",
    "One-hot-encoding: Explodes the categorical features into many binary features(as many categories per feature)\n",
    "OneHotEncoder does not automatically name the new binary features.\n",
    "Works on 2 or more features(for one-hot encoding of one feature alone we should use LabelBianrizer instead)\n",
    "\n",
    "get_dummies : Pandas one hot encoder\n",
    "It converts categorical features into new \"dummy\"/indicator features. Automatically names the new binary features\n",
    "\n"
   ]
  },
  {
   "cell_type": "code",
   "execution_count": 19,
   "metadata": {},
   "outputs": [
    {
     "data": {
      "text/html": [
       "<div>\n",
       "<style scoped>\n",
       "    .dataframe tbody tr th:only-of-type {\n",
       "        vertical-align: middle;\n",
       "    }\n",
       "\n",
       "    .dataframe tbody tr th {\n",
       "        vertical-align: top;\n",
       "    }\n",
       "\n",
       "    .dataframe thead th {\n",
       "        text-align: right;\n",
       "    }\n",
       "</style>\n",
       "<table border=\"1\" class=\"dataframe\">\n",
       "  <thead>\n",
       "    <tr style=\"text-align: right;\">\n",
       "      <th></th>\n",
       "      <th>color</th>\n",
       "      <th>size</th>\n",
       "      <th>price</th>\n",
       "      <th>classlabel</th>\n",
       "    </tr>\n",
       "  </thead>\n",
       "  <tbody>\n",
       "    <tr>\n",
       "      <th>0</th>\n",
       "      <td>1</td>\n",
       "      <td>S</td>\n",
       "      <td>10.1</td>\n",
       "      <td>shirt</td>\n",
       "    </tr>\n",
       "    <tr>\n",
       "      <th>1</th>\n",
       "      <td>2</td>\n",
       "      <td>M</td>\n",
       "      <td>13.5</td>\n",
       "      <td>pants</td>\n",
       "    </tr>\n",
       "    <tr>\n",
       "      <th>2</th>\n",
       "      <td>0</td>\n",
       "      <td>L</td>\n",
       "      <td>15.3</td>\n",
       "      <td>shirt</td>\n",
       "    </tr>\n",
       "  </tbody>\n",
       "</table>\n",
       "</div>"
      ],
      "text/plain": [
       "   color size  price classlabel\n",
       "0      1    S   10.1      shirt\n",
       "1      2    M   13.5      pants\n",
       "2      0    L   15.3      shirt"
      ]
     },
     "execution_count": 19,
     "metadata": {},
     "output_type": "execute_result"
    }
   ],
   "source": [
    "# sklearn's labelencoder\n",
    "from sklearn.preprocessing import LabelEncoder\n",
    "import pandas as pd\n",
    "\n",
    "data = {'color':['green','red','blue'],\n",
    "                 'size':['S', 'M', 'L'],\n",
    "                 'price':[10.1, 13.5, 15.3],\n",
    "                 'classlabel':['shirt', 'pants', 'shirt']}\n",
    "df = pd.DataFrame(data=data)\n",
    "le = LabelEncoder()\n",
    "df['color']=le.fit_transform(df['color'])\n",
    "df"
   ]
  },
  {
   "cell_type": "code",
   "execution_count": 6,
   "metadata": {},
   "outputs": [
    {
     "data": {
      "text/html": [
       "<div>\n",
       "<style scoped>\n",
       "    .dataframe tbody tr th:only-of-type {\n",
       "        vertical-align: middle;\n",
       "    }\n",
       "\n",
       "    .dataframe tbody tr th {\n",
       "        vertical-align: top;\n",
       "    }\n",
       "\n",
       "    .dataframe thead th {\n",
       "        text-align: right;\n",
       "    }\n",
       "</style>\n",
       "<table border=\"1\" class=\"dataframe\">\n",
       "  <thead>\n",
       "    <tr style=\"text-align: right;\">\n",
       "      <th></th>\n",
       "      <th>color</th>\n",
       "      <th>size</th>\n",
       "      <th>price</th>\n",
       "      <th>classlabel</th>\n",
       "    </tr>\n",
       "  </thead>\n",
       "  <tbody>\n",
       "    <tr>\n",
       "      <th>0</th>\n",
       "      <td>green</td>\n",
       "      <td>S</td>\n",
       "      <td>10.1</td>\n",
       "      <td>shirt</td>\n",
       "    </tr>\n",
       "    <tr>\n",
       "      <th>1</th>\n",
       "      <td>red</td>\n",
       "      <td>M</td>\n",
       "      <td>13.5</td>\n",
       "      <td>pants</td>\n",
       "    </tr>\n",
       "    <tr>\n",
       "      <th>2</th>\n",
       "      <td>blue</td>\n",
       "      <td>L</td>\n",
       "      <td>15.3</td>\n",
       "      <td>shirt</td>\n",
       "    </tr>\n",
       "  </tbody>\n",
       "</table>\n",
       "</div>"
      ],
      "text/plain": [
       "   color size  price classlabel\n",
       "0  green    S   10.1      shirt\n",
       "1    red    M   13.5      pants\n",
       "2   blue    L   15.3      shirt"
      ]
     },
     "execution_count": 6,
     "metadata": {},
     "output_type": "execute_result"
    }
   ],
   "source": [
    "# get_dummies - Pandas one hot encoder\n",
    "import pandas as pd\n",
    "data = {'color':['green','red','blue'],\n",
    "                 'size':['S', 'M', 'L'],\n",
    "                 'price':[10.1, 13.5, 15.3],\n",
    "                 'classlabel':['shirt', 'pants', 'shirt']}\n",
    "df = pd.DataFrame(data=data)\n",
    "df"
   ]
  },
  {
   "cell_type": "code",
   "execution_count": 18,
   "metadata": {},
   "outputs": [
    {
     "data": {
      "text/html": [
       "<div>\n",
       "<style scoped>\n",
       "    .dataframe tbody tr th:only-of-type {\n",
       "        vertical-align: middle;\n",
       "    }\n",
       "\n",
       "    .dataframe tbody tr th {\n",
       "        vertical-align: top;\n",
       "    }\n",
       "\n",
       "    .dataframe thead th {\n",
       "        text-align: right;\n",
       "    }\n",
       "</style>\n",
       "<table border=\"1\" class=\"dataframe\">\n",
       "  <thead>\n",
       "    <tr style=\"text-align: right;\">\n",
       "      <th></th>\n",
       "      <th>size</th>\n",
       "      <th>price</th>\n",
       "      <th>classlabel</th>\n",
       "      <th>color_blue</th>\n",
       "      <th>color_green</th>\n",
       "      <th>color_red</th>\n",
       "    </tr>\n",
       "  </thead>\n",
       "  <tbody>\n",
       "    <tr>\n",
       "      <th>0</th>\n",
       "      <td>S</td>\n",
       "      <td>10.1</td>\n",
       "      <td>shirt</td>\n",
       "      <td>0</td>\n",
       "      <td>1</td>\n",
       "      <td>0</td>\n",
       "    </tr>\n",
       "    <tr>\n",
       "      <th>1</th>\n",
       "      <td>M</td>\n",
       "      <td>13.5</td>\n",
       "      <td>pants</td>\n",
       "      <td>0</td>\n",
       "      <td>0</td>\n",
       "      <td>1</td>\n",
       "    </tr>\n",
       "    <tr>\n",
       "      <th>2</th>\n",
       "      <td>L</td>\n",
       "      <td>15.3</td>\n",
       "      <td>shirt</td>\n",
       "      <td>1</td>\n",
       "      <td>0</td>\n",
       "      <td>0</td>\n",
       "    </tr>\n",
       "  </tbody>\n",
       "</table>\n",
       "</div>"
      ],
      "text/plain": [
       "  size  price classlabel  color_blue  color_green  color_red\n",
       "0    S   10.1      shirt           0            1          0\n",
       "1    M   13.5      pants           0            0          1\n",
       "2    L   15.3      shirt           1            0          0"
      ]
     },
     "execution_count": 18,
     "metadata": {},
     "output_type": "execute_result"
    }
   ],
   "source": [
    "pdgd = pd.get_dummies(df, columns=['color'])\n",
    "pdgd"
   ]
  },
  {
   "cell_type": "markdown",
   "metadata": {},
   "source": [
    "Machine Learning with text data\n",
    "\n",
    "Text is a common data type such as titles, names, reviews or any freeform input. ML models need well defined numerical data.\n",
    "\n",
    "Text data -> Text Preprocessing  -> Vectorization -> Train model\n",
    "                                                      \n",
    "                (Cleaning and        (Convert to      using     \n",
    "                 Formatting)           Numbers)       numerical\n",
    "                Lower case,            Word Reprsntn   data\n",
    "                Stop words removal,                    KNN, deci-\n",
    "                stemming,                              sion tree,\n",
    "                Lemmatization                         Regression,\n",
    "                                                       NN etc"
   ]
  },
  {
   "cell_type": "markdown",
   "metadata": {},
   "source": [
    "Tokenization\n",
    "\n",
    "Splitting text sentences into a list of words\n",
    "\n",
    "ex ->\n",
    "\n",
    "\"I don't like eggs\"      ->    \"I\", \"do\", \"n't\", \"like\", \"eggs\"\n",
    "\n",
    "Stop words Removal\n",
    "\n",
    "Stop words: Some words that frequently appear in texts, but they dont contribute too much to the overall meaning.\n",
    "Common stop words : \"a\", \"the\", \"so\", \"is\", \"it\", \"at\", \"in\", \"this\", \"there\", \"that\", \"my\", \"by\", \"nor\"\n",
    "ex ->\n",
    "\n",
    "Original Sentence               ->  Without stop words\n",
    "\"There is a tree near the house\"    \" tree near house\"\n",
    "\n",
    "We can directly use the list of stopwords provided in the NLTK (Natural Language Tool kit) library."
   ]
  },
  {
   "cell_type": "markdown",
   "metadata": {},
   "source": [
    "Stemming\n",
    "\n",
    "When reducing the list of words to its root.\n",
    "These are set of rules to slice a string to a substring that usually refers to a more general meaning. The goal is to remove word affixes(particularly suffixes) such as \"s\", \"es\", \"ing\", \"ed\", etc\n",
    "\n",
    "For ex -> Playing, played, plays -> play\n"
   ]
  },
  {
   "cell_type": "markdown",
   "metadata": {},
   "source": [
    "TExt Vectorization : Bag of Words\n",
    "\n",
    "ML models need well defined numerical data.\n",
    "\n",
    "Bag of words (BoW) method:\n",
    "1. Converts text data into numerical features.\n",
    "2. Referred as feature extraction, as we extracted important imformation from the original text in a numeric form.\n",
    "3. For each word in a documnet, we get a number, it can be:\n",
    "    . binary (1 or 0, present or not)\n",
    "    . word counts or frequencies.\n",
    "\n",
    "Term Frequency (TF) : Number of times a word occurs in the doc/\n",
    "                      Total number of words in the doc\n",
    "\n",
    "Inverse Document Frequency (IDF)\n",
    "\n",
    "IDF decreases the weights for commonly used words, and increases weights for rare words in the vocabulary\n",
    "\n",
    "idf$_(term)$ = log($n_documents$/($n_documents contatining the term$ + 1) + 1\n"
   ]
  },
  {
   "cell_type": "markdown",
   "metadata": {},
   "source": [
    "Bag of Words in sklearn - CountVectorizer\n",
    "\n",
    "CountVectorizer: sklearn text vectorizer, converts a collection of text documents, to a matrix of token counts"
   ]
  },
  {
   "cell_type": "code",
   "execution_count": 35,
   "metadata": {},
   "outputs": [
    {
     "name": "stdout",
     "output_type": "stream",
     "text": [
      "(3, 9)\n",
      "[[0 1 1 1 0 0 1 0 1]\n",
      " [0 1 0 1 0 1 1 0 1]\n",
      " [1 0 0 1 1 0 1 1 1]]\n"
     ]
    }
   ],
   "source": [
    "from sklearn.feature_extraction.text import CountVectorizer\n",
    "\n",
    "countVectorizer = CountVectorizer(binary=True)\n",
    "\n",
    "sentences =[\"This is the first document\",\n",
    "           \"This is the second document\",\n",
    "           \"and this is the third one\"]\n",
    "X = countVectorizer.fit_transform(sentences)\n",
    "print(X.shape)\n",
    "print(X.toarray())"
   ]
  },
  {
   "cell_type": "code",
   "execution_count": null,
   "metadata": {},
   "outputs": [],
   "source": []
  }
 ],
 "metadata": {
  "kernelspec": {
   "display_name": "Python 3",
   "language": "python",
   "name": "python3"
  },
  "language_info": {
   "codemirror_mode": {
    "name": "ipython",
    "version": 3
   },
   "file_extension": ".py",
   "mimetype": "text/x-python",
   "name": "python",
   "nbconvert_exporter": "python",
   "pygments_lexer": "ipython3",
   "version": "3.8.3"
  }
 },
 "nbformat": 4,
 "nbformat_minor": 4
}
